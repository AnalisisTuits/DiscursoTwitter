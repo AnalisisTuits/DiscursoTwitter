{
 "cells": [
  {
   "cell_type": "markdown",
   "metadata": {},
   "source": [
    "## Análisis de perfiles de tuiter"
   ]
  },
  {
   "cell_type": "code",
   "execution_count": 35,
   "metadata": {},
   "outputs": [],
   "source": [
    "#Librerías de Python usadas para este análisis\n",
    "import pandas as pd #Libreria para leer y analizar\n",
    "import numpy as np #Libreria matematica\n",
    "import matplotlib.pyplot as plt #Libreria para graficar\n",
    "import os #Librería para facilitar la ubicación de los archivos"
   ]
  },
  {
   "cell_type": "code",
   "execution_count": 2,
   "metadata": {},
   "outputs": [],
   "source": [
    "#Instrucciones para dar formato a las gráficas\n",
    "plt.rc('axes', labelsize=22)\n",
    "plt.rc('xtick', labelsize=14)\n",
    "plt.rc('ytick', labelsize=16)"
   ]
  },
  {
   "cell_type": "code",
   "execution_count": 34,
   "metadata": {},
   "outputs": [
    {
     "data": {
      "text/plain": [
       "'/home/christian/Documentos/learn_to/analisis_datos_sociales/Corpus_seleccionado/plebiLaura'"
      ]
     },
     "execution_count": 34,
     "metadata": {},
     "output_type": "execute_result"
    }
   ],
   "source": [
    "#A partir de aquí Python sabe en que carpeta se encuentran los datos\n",
    "os.chdir(\"/home/christian/Documentos/learn_to/analisis_datos_sociales/Corpus_seleccionado/plebiLaura/\")\n",
    "os.getcwd()"
   ]
  },
  {
   "cell_type": "markdown",
   "metadata": {},
   "source": [
    "### Lectura de los datos"
   ]
  },
  {
   "cell_type": "markdown",
   "metadata": {},
   "source": [
    "#### Todos X la Paz "
   ]
  },
  {
   "cell_type": "code",
   "execution_count": 28,
   "metadata": {
    "scrolled": true
   },
   "outputs": [],
   "source": [
    "#Lectura de los archivos\n",
    "df= pd.read_json(r\"todosxlapazcol.json\")"
   ]
  },
  {
   "cell_type": "code",
   "execution_count": 29,
   "metadata": {},
   "outputs": [
    {
     "data": {
      "text/html": [
       "<div>\n",
       "<style scoped>\n",
       "    .dataframe tbody tr th:only-of-type {\n",
       "        vertical-align: middle;\n",
       "    }\n",
       "\n",
       "    .dataframe tbody tr th {\n",
       "        vertical-align: top;\n",
       "    }\n",
       "\n",
       "    .dataframe thead th {\n",
       "        text-align: right;\n",
       "    }\n",
       "</style>\n",
       "<table border=\"1\" class=\"dataframe\">\n",
       "  <thead>\n",
       "    <tr style=\"text-align: right;\">\n",
       "      <th></th>\n",
       "      <th>created_at</th>\n",
       "      <th>favorite_count</th>\n",
       "      <th>followers_count</th>\n",
       "      <th>id_str</th>\n",
       "      <th>in_reply_to_screen_name</th>\n",
       "      <th>retweet_count</th>\n",
       "      <th>screen_name</th>\n",
       "      <th>text</th>\n",
       "    </tr>\n",
       "  </thead>\n",
       "  <tbody>\n",
       "    <tr>\n",
       "      <th>0</th>\n",
       "      <td>2016-10-27 13:56:22</td>\n",
       "      <td>2</td>\n",
       "      <td>2602</td>\n",
       "      <td>791639681154813952</td>\n",
       "      <td>None</td>\n",
       "      <td>1</td>\n",
       "      <td>todosxlapazcol</td>\n",
       "      <td>Camilo entrega petición para que Jorge Barón l...</td>\n",
       "    </tr>\n",
       "    <tr>\n",
       "      <th>1</th>\n",
       "      <td>2016-10-20 23:01:08</td>\n",
       "      <td>9</td>\n",
       "      <td>2602</td>\n",
       "      <td>789240061057441792</td>\n",
       "      <td>None</td>\n",
       "      <td>9</td>\n",
       "      <td>todosxlapazcol</td>\n",
       "      <td>\"¡Paz, Paz, Colombia quiere Paz!\" Los colombia...</td>\n",
       "    </tr>\n",
       "    <tr>\n",
       "      <th>2</th>\n",
       "      <td>2016-10-20 22:43:54</td>\n",
       "      <td>26</td>\n",
       "      <td>2602</td>\n",
       "      <td>789235724352688128</td>\n",
       "      <td>None</td>\n",
       "      <td>18</td>\n",
       "      <td>todosxlapazcol</td>\n",
       "      <td>Jóvenes, viejos.. Aquí ya no hay diferencia. T...</td>\n",
       "    </tr>\n",
       "    <tr>\n",
       "      <th>3</th>\n",
       "      <td>2016-10-20 22:23:52</td>\n",
       "      <td>4</td>\n",
       "      <td>2602</td>\n",
       "      <td>789230681612320768</td>\n",
       "      <td>None</td>\n",
       "      <td>5</td>\n",
       "      <td>todosxlapazcol</td>\n",
       "      <td>Arrancó la #GranMarchaColombiaPacifica. ¿Ya es...</td>\n",
       "    </tr>\n",
       "    <tr>\n",
       "      <th>4</th>\n",
       "      <td>2016-10-20 17:31:40</td>\n",
       "      <td>2</td>\n",
       "      <td>2602</td>\n",
       "      <td>789157148060164096</td>\n",
       "      <td>None</td>\n",
       "      <td>3</td>\n",
       "      <td>todosxlapazcol</td>\n",
       "      <td>¿Ya #EstamosListos para la #GranMarchaColombia...</td>\n",
       "    </tr>\n",
       "  </tbody>\n",
       "</table>\n",
       "</div>"
      ],
      "text/plain": [
       "           created_at  favorite_count  followers_count              id_str  \\\n",
       "0 2016-10-27 13:56:22               2             2602  791639681154813952   \n",
       "1 2016-10-20 23:01:08               9             2602  789240061057441792   \n",
       "2 2016-10-20 22:43:54              26             2602  789235724352688128   \n",
       "3 2016-10-20 22:23:52               4             2602  789230681612320768   \n",
       "4 2016-10-20 17:31:40               2             2602  789157148060164096   \n",
       "\n",
       "  in_reply_to_screen_name  retweet_count     screen_name  \\\n",
       "0                    None              1  todosxlapazcol   \n",
       "1                    None              9  todosxlapazcol   \n",
       "2                    None             18  todosxlapazcol   \n",
       "3                    None              5  todosxlapazcol   \n",
       "4                    None              3  todosxlapazcol   \n",
       "\n",
       "                                                text  \n",
       "0  Camilo entrega petición para que Jorge Barón l...  \n",
       "1  \"¡Paz, Paz, Colombia quiere Paz!\" Los colombia...  \n",
       "2  Jóvenes, viejos.. Aquí ya no hay diferencia. T...  \n",
       "3  Arrancó la #GranMarchaColombiaPacifica. ¿Ya es...  \n",
       "4  ¿Ya #EstamosListos para la #GranMarchaColombia...  "
      ]
     },
     "execution_count": 29,
     "metadata": {},
     "output_type": "execute_result"
    }
   ],
   "source": [
    "#Así podemos ver las primeras cinco líneas de los archivos\n",
    "df.head()"
   ]
  },
  {
   "cell_type": "code",
   "execution_count": 30,
   "metadata": {
    "scrolled": false
   },
   "outputs": [
    {
     "name": "stdout",
     "output_type": "stream",
     "text": [
      "<class 'pandas.core.frame.DataFrame'>\n",
      "RangeIndex: 2690 entries, 0 to 2689\n",
      "Data columns (total 8 columns):\n",
      " #   Column                   Non-Null Count  Dtype         \n",
      "---  ------                   --------------  -----         \n",
      " 0   created_at               2690 non-null   datetime64[ns]\n",
      " 1   favorite_count           2690 non-null   int64         \n",
      " 2   followers_count          2690 non-null   int64         \n",
      " 3   id_str                   2690 non-null   int64         \n",
      " 4   in_reply_to_screen_name  8 non-null      object        \n",
      " 5   retweet_count            2690 non-null   int64         \n",
      " 6   screen_name              2690 non-null   object        \n",
      " 7   text                     2690 non-null   object        \n",
      "dtypes: datetime64[ns](1), int64(4), object(3)\n",
      "memory usage: 168.2+ KB\n"
     ]
    }
   ],
   "source": [
    "#Así podemos ver el número de líneas que tiene el archivo y el tipo de variable\n",
    "df.info()"
   ]
  },
  {
   "cell_type": "code",
   "execution_count": 31,
   "metadata": {},
   "outputs": [
    {
     "data": {
      "text/html": [
       "<div>\n",
       "<style scoped>\n",
       "    .dataframe tbody tr th:only-of-type {\n",
       "        vertical-align: middle;\n",
       "    }\n",
       "\n",
       "    .dataframe tbody tr th {\n",
       "        vertical-align: top;\n",
       "    }\n",
       "\n",
       "    .dataframe thead th {\n",
       "        text-align: right;\n",
       "    }\n",
       "</style>\n",
       "<table border=\"1\" class=\"dataframe\">\n",
       "  <thead>\n",
       "    <tr style=\"text-align: right;\">\n",
       "      <th></th>\n",
       "      <th>created_at</th>\n",
       "      <th>favorite_count</th>\n",
       "      <th>followers_count</th>\n",
       "      <th>id_str</th>\n",
       "      <th>in_reply_to_screen_name</th>\n",
       "      <th>retweet_count</th>\n",
       "      <th>screen_name</th>\n",
       "      <th>text</th>\n",
       "    </tr>\n",
       "  </thead>\n",
       "  <tbody>\n",
       "    <tr>\n",
       "      <th>390</th>\n",
       "      <td>2016-09-30 22:17:15</td>\n",
       "      <td>0</td>\n",
       "      <td>2602</td>\n",
       "      <td>781981261657243648</td>\n",
       "      <td>None</td>\n",
       "      <td>13427</td>\n",
       "      <td>todosxlapazcol</td>\n",
       "      <td>RT @Pontifex_es: Señor Jesús, extiende la somb...</td>\n",
       "    </tr>\n",
       "    <tr>\n",
       "      <th>17</th>\n",
       "      <td>2016-10-03 03:49:22</td>\n",
       "      <td>0</td>\n",
       "      <td>2602</td>\n",
       "      <td>782789615623278592</td>\n",
       "      <td>None</td>\n",
       "      <td>10041</td>\n",
       "      <td>todosxlapazcol</td>\n",
       "      <td>RT @JuanManSantos: No me rendiré, seguiré busc...</td>\n",
       "    </tr>\n",
       "    <tr>\n",
       "      <th>2288</th>\n",
       "      <td>2016-06-14 13:29:52</td>\n",
       "      <td>0</td>\n",
       "      <td>2602</td>\n",
       "      <td>742710648811982848</td>\n",
       "      <td>None</td>\n",
       "      <td>6815</td>\n",
       "      <td>todosxlapazcol</td>\n",
       "      <td>RT @Pontifex_es: El futuro de un pueblo supone...</td>\n",
       "    </tr>\n",
       "    <tr>\n",
       "      <th>709</th>\n",
       "      <td>2016-09-27 18:56:03</td>\n",
       "      <td>0</td>\n",
       "      <td>2602</td>\n",
       "      <td>780843464615399424</td>\n",
       "      <td>None</td>\n",
       "      <td>5131</td>\n",
       "      <td>todosxlapazcol</td>\n",
       "      <td>RT @fdbedout: El acuerdo está firmado, ahora n...</td>\n",
       "    </tr>\n",
       "    <tr>\n",
       "      <th>266</th>\n",
       "      <td>2016-10-01 22:05:28</td>\n",
       "      <td>0</td>\n",
       "      <td>2602</td>\n",
       "      <td>782340680349868032</td>\n",
       "      <td>None</td>\n",
       "      <td>4243</td>\n",
       "      <td>todosxlapazcol</td>\n",
       "      <td>RT @FALCAO: Para pensarlo. https://t.co/kJxWHK...</td>\n",
       "    </tr>\n",
       "    <tr>\n",
       "      <th>1030</th>\n",
       "      <td>2016-09-23 20:02:02</td>\n",
       "      <td>0</td>\n",
       "      <td>2602</td>\n",
       "      <td>779410517295243264</td>\n",
       "      <td>None</td>\n",
       "      <td>4174</td>\n",
       "      <td>todosxlapazcol</td>\n",
       "      <td>RT @juanes: Absolutamente de acuerdo con Humbe...</td>\n",
       "    </tr>\n",
       "    <tr>\n",
       "      <th>995</th>\n",
       "      <td>2016-09-24 22:39:24</td>\n",
       "      <td>0</td>\n",
       "      <td>2602</td>\n",
       "      <td>779812505707278336</td>\n",
       "      <td>None</td>\n",
       "      <td>4140</td>\n",
       "      <td>todosxlapazcol</td>\n",
       "      <td>RT @Tolaymaruja: Dicen que perderemos seguidor...</td>\n",
       "    </tr>\n",
       "    <tr>\n",
       "      <th>791</th>\n",
       "      <td>2016-09-27 13:39:30</td>\n",
       "      <td>0</td>\n",
       "      <td>2602</td>\n",
       "      <td>780763798454099968</td>\n",
       "      <td>None</td>\n",
       "      <td>3742</td>\n",
       "      <td>todosxlapazcol</td>\n",
       "      <td>RT @shakira: \"Se hace camino al andar\"... Colo...</td>\n",
       "    </tr>\n",
       "    <tr>\n",
       "      <th>2283</th>\n",
       "      <td>2016-06-14 13:57:59</td>\n",
       "      <td>0</td>\n",
       "      <td>2602</td>\n",
       "      <td>742717725731135488</td>\n",
       "      <td>None</td>\n",
       "      <td>3300</td>\n",
       "      <td>todosxlapazcol</td>\n",
       "      <td>RT @Margaritarosadf: A los que dicen que la pa...</td>\n",
       "    </tr>\n",
       "    <tr>\n",
       "      <th>67</th>\n",
       "      <td>2016-10-02 18:56:13</td>\n",
       "      <td>0</td>\n",
       "      <td>2602</td>\n",
       "      <td>782655442849792000</td>\n",
       "      <td>None</td>\n",
       "      <td>2778</td>\n",
       "      <td>todosxlapazcol</td>\n",
       "      <td>RT @juanes: Por las víctimas, campesinos, sold...</td>\n",
       "    </tr>\n",
       "  </tbody>\n",
       "</table>\n",
       "</div>"
      ],
      "text/plain": [
       "              created_at  favorite_count  followers_count              id_str  \\\n",
       "390  2016-09-30 22:17:15               0             2602  781981261657243648   \n",
       "17   2016-10-03 03:49:22               0             2602  782789615623278592   \n",
       "2288 2016-06-14 13:29:52               0             2602  742710648811982848   \n",
       "709  2016-09-27 18:56:03               0             2602  780843464615399424   \n",
       "266  2016-10-01 22:05:28               0             2602  782340680349868032   \n",
       "1030 2016-09-23 20:02:02               0             2602  779410517295243264   \n",
       "995  2016-09-24 22:39:24               0             2602  779812505707278336   \n",
       "791  2016-09-27 13:39:30               0             2602  780763798454099968   \n",
       "2283 2016-06-14 13:57:59               0             2602  742717725731135488   \n",
       "67   2016-10-02 18:56:13               0             2602  782655442849792000   \n",
       "\n",
       "     in_reply_to_screen_name  retweet_count     screen_name  \\\n",
       "390                     None          13427  todosxlapazcol   \n",
       "17                      None          10041  todosxlapazcol   \n",
       "2288                    None           6815  todosxlapazcol   \n",
       "709                     None           5131  todosxlapazcol   \n",
       "266                     None           4243  todosxlapazcol   \n",
       "1030                    None           4174  todosxlapazcol   \n",
       "995                     None           4140  todosxlapazcol   \n",
       "791                     None           3742  todosxlapazcol   \n",
       "2283                    None           3300  todosxlapazcol   \n",
       "67                      None           2778  todosxlapazcol   \n",
       "\n",
       "                                                   text  \n",
       "390   RT @Pontifex_es: Señor Jesús, extiende la somb...  \n",
       "17    RT @JuanManSantos: No me rendiré, seguiré busc...  \n",
       "2288  RT @Pontifex_es: El futuro de un pueblo supone...  \n",
       "709   RT @fdbedout: El acuerdo está firmado, ahora n...  \n",
       "266   RT @FALCAO: Para pensarlo. https://t.co/kJxWHK...  \n",
       "1030  RT @juanes: Absolutamente de acuerdo con Humbe...  \n",
       "995   RT @Tolaymaruja: Dicen que perderemos seguidor...  \n",
       "791   RT @shakira: \"Se hace camino al andar\"... Colo...  \n",
       "2283  RT @Margaritarosadf: A los que dicen que la pa...  \n",
       "67    RT @juanes: Por las víctimas, campesinos, sold...  "
      ]
     },
     "execution_count": 31,
     "metadata": {},
     "output_type": "execute_result"
    }
   ],
   "source": [
    "#Obtenemos los diez tuits con más retuits\n",
    "df.nlargest(10, ['retweet_count'])"
   ]
  },
  {
   "cell_type": "code",
   "execution_count": 32,
   "metadata": {},
   "outputs": [],
   "source": [
    "#Eliminamos algunas columnas que no son de interés en este análisis\n",
    "df.drop(['followers_count', 'id_str', 'in_reply_to_screen_name'], axis=1, inplace=True)"
   ]
  },
  {
   "cell_type": "code",
   "execution_count": 8,
   "metadata": {},
   "outputs": [
    {
     "data": {
      "text/html": [
       "<div>\n",
       "<style scoped>\n",
       "    .dataframe tbody tr th:only-of-type {\n",
       "        vertical-align: middle;\n",
       "    }\n",
       "\n",
       "    .dataframe tbody tr th {\n",
       "        vertical-align: top;\n",
       "    }\n",
       "\n",
       "    .dataframe thead th {\n",
       "        text-align: right;\n",
       "    }\n",
       "</style>\n",
       "<table border=\"1\" class=\"dataframe\">\n",
       "  <thead>\n",
       "    <tr style=\"text-align: right;\">\n",
       "      <th></th>\n",
       "      <th>created_at</th>\n",
       "      <th>favorite_count</th>\n",
       "      <th>retweet_count</th>\n",
       "      <th>screen_name</th>\n",
       "      <th>text</th>\n",
       "    </tr>\n",
       "  </thead>\n",
       "  <tbody>\n",
       "    <tr>\n",
       "      <th>0</th>\n",
       "      <td>2016-10-27 13:56:22</td>\n",
       "      <td>2</td>\n",
       "      <td>1</td>\n",
       "      <td>todosxlapazcol</td>\n",
       "      <td>Camilo entrega petición para que Jorge Barón l...</td>\n",
       "    </tr>\n",
       "    <tr>\n",
       "      <th>1</th>\n",
       "      <td>2016-10-20 23:01:08</td>\n",
       "      <td>9</td>\n",
       "      <td>9</td>\n",
       "      <td>todosxlapazcol</td>\n",
       "      <td>\"¡Paz, Paz, Colombia quiere Paz!\" Los colombia...</td>\n",
       "    </tr>\n",
       "    <tr>\n",
       "      <th>2</th>\n",
       "      <td>2016-10-20 22:43:54</td>\n",
       "      <td>26</td>\n",
       "      <td>18</td>\n",
       "      <td>todosxlapazcol</td>\n",
       "      <td>Jóvenes, viejos.. Aquí ya no hay diferencia. T...</td>\n",
       "    </tr>\n",
       "    <tr>\n",
       "      <th>3</th>\n",
       "      <td>2016-10-20 22:23:52</td>\n",
       "      <td>4</td>\n",
       "      <td>5</td>\n",
       "      <td>todosxlapazcol</td>\n",
       "      <td>Arrancó la #GranMarchaColombiaPacifica. ¿Ya es...</td>\n",
       "    </tr>\n",
       "    <tr>\n",
       "      <th>4</th>\n",
       "      <td>2016-10-20 17:31:40</td>\n",
       "      <td>2</td>\n",
       "      <td>3</td>\n",
       "      <td>todosxlapazcol</td>\n",
       "      <td>¿Ya #EstamosListos para la #GranMarchaColombia...</td>\n",
       "    </tr>\n",
       "  </tbody>\n",
       "</table>\n",
       "</div>"
      ],
      "text/plain": [
       "           created_at  favorite_count  retweet_count     screen_name  \\\n",
       "0 2016-10-27 13:56:22               2              1  todosxlapazcol   \n",
       "1 2016-10-20 23:01:08               9              9  todosxlapazcol   \n",
       "2 2016-10-20 22:43:54              26             18  todosxlapazcol   \n",
       "3 2016-10-20 22:23:52               4              5  todosxlapazcol   \n",
       "4 2016-10-20 17:31:40               2              3  todosxlapazcol   \n",
       "\n",
       "                                                text  \n",
       "0  Camilo entrega petición para que Jorge Barón l...  \n",
       "1  \"¡Paz, Paz, Colombia quiere Paz!\" Los colombia...  \n",
       "2  Jóvenes, viejos.. Aquí ya no hay diferencia. T...  \n",
       "3  Arrancó la #GranMarchaColombiaPacifica. ¿Ya es...  \n",
       "4  ¿Ya #EstamosListos para la #GranMarchaColombia...  "
      ]
     },
     "execution_count": 8,
     "metadata": {},
     "output_type": "execute_result"
    }
   ],
   "source": [
    "df.head()"
   ]
  },
  {
   "cell_type": "code",
   "execution_count": 10,
   "metadata": {},
   "outputs": [],
   "source": [
    "#Librería para extraer información del cuerpo del tuit\n",
    "import re"
   ]
  },
  {
   "cell_type": "code",
   "execution_count": 11,
   "metadata": {},
   "outputs": [],
   "source": [
    "#Así se genera una columna con los hashtag usados en el tuit\n",
    "df['hashtag'] = df['text'].apply(lambda x: re.findall(r'#(\\w+)', x)) "
   ]
  },
  {
   "cell_type": "code",
   "execution_count": 12,
   "metadata": {},
   "outputs": [
    {
     "data": {
      "text/html": [
       "<div>\n",
       "<style scoped>\n",
       "    .dataframe tbody tr th:only-of-type {\n",
       "        vertical-align: middle;\n",
       "    }\n",
       "\n",
       "    .dataframe tbody tr th {\n",
       "        vertical-align: top;\n",
       "    }\n",
       "\n",
       "    .dataframe thead th {\n",
       "        text-align: right;\n",
       "    }\n",
       "</style>\n",
       "<table border=\"1\" class=\"dataframe\">\n",
       "  <thead>\n",
       "    <tr style=\"text-align: right;\">\n",
       "      <th></th>\n",
       "      <th>created_at</th>\n",
       "      <th>favorite_count</th>\n",
       "      <th>retweet_count</th>\n",
       "      <th>screen_name</th>\n",
       "      <th>text</th>\n",
       "      <th>hashtag</th>\n",
       "    </tr>\n",
       "  </thead>\n",
       "  <tbody>\n",
       "    <tr>\n",
       "      <th>0</th>\n",
       "      <td>2016-10-27 13:56:22</td>\n",
       "      <td>2</td>\n",
       "      <td>1</td>\n",
       "      <td>todosxlapazcol</td>\n",
       "      <td>Camilo entrega petición para que Jorge Barón l...</td>\n",
       "      <td>[]</td>\n",
       "    </tr>\n",
       "    <tr>\n",
       "      <th>1</th>\n",
       "      <td>2016-10-20 23:01:08</td>\n",
       "      <td>9</td>\n",
       "      <td>9</td>\n",
       "      <td>todosxlapazcol</td>\n",
       "      <td>\"¡Paz, Paz, Colombia quiere Paz!\" Los colombia...</td>\n",
       "      <td>[EstamosListos]</td>\n",
       "    </tr>\n",
       "    <tr>\n",
       "      <th>2</th>\n",
       "      <td>2016-10-20 22:43:54</td>\n",
       "      <td>26</td>\n",
       "      <td>18</td>\n",
       "      <td>todosxlapazcol</td>\n",
       "      <td>Jóvenes, viejos.. Aquí ya no hay diferencia. T...</td>\n",
       "      <td>[EstamosListos, GranMarchaColombiaPacifica]</td>\n",
       "    </tr>\n",
       "    <tr>\n",
       "      <th>3</th>\n",
       "      <td>2016-10-20 22:23:52</td>\n",
       "      <td>4</td>\n",
       "      <td>5</td>\n",
       "      <td>todosxlapazcol</td>\n",
       "      <td>Arrancó la #GranMarchaColombiaPacifica. ¿Ya es...</td>\n",
       "      <td>[GranMarchaColombiaPacifica, EstamosListos]</td>\n",
       "    </tr>\n",
       "    <tr>\n",
       "      <th>4</th>\n",
       "      <td>2016-10-20 17:31:40</td>\n",
       "      <td>2</td>\n",
       "      <td>3</td>\n",
       "      <td>todosxlapazcol</td>\n",
       "      <td>¿Ya #EstamosListos para la #GranMarchaColombia...</td>\n",
       "      <td>[EstamosListos, GranMarchaColombiaPacifica]</td>\n",
       "    </tr>\n",
       "  </tbody>\n",
       "</table>\n",
       "</div>"
      ],
      "text/plain": [
       "           created_at  favorite_count  retweet_count     screen_name  \\\n",
       "0 2016-10-27 13:56:22               2              1  todosxlapazcol   \n",
       "1 2016-10-20 23:01:08               9              9  todosxlapazcol   \n",
       "2 2016-10-20 22:43:54              26             18  todosxlapazcol   \n",
       "3 2016-10-20 22:23:52               4              5  todosxlapazcol   \n",
       "4 2016-10-20 17:31:40               2              3  todosxlapazcol   \n",
       "\n",
       "                                                text  \\\n",
       "0  Camilo entrega petición para que Jorge Barón l...   \n",
       "1  \"¡Paz, Paz, Colombia quiere Paz!\" Los colombia...   \n",
       "2  Jóvenes, viejos.. Aquí ya no hay diferencia. T...   \n",
       "3  Arrancó la #GranMarchaColombiaPacifica. ¿Ya es...   \n",
       "4  ¿Ya #EstamosListos para la #GranMarchaColombia...   \n",
       "\n",
       "                                       hashtag  \n",
       "0                                           []  \n",
       "1                              [EstamosListos]  \n",
       "2  [EstamosListos, GranMarchaColombiaPacifica]  \n",
       "3  [GranMarchaColombiaPacifica, EstamosListos]  \n",
       "4  [EstamosListos, GranMarchaColombiaPacifica]  "
      ]
     },
     "execution_count": 12,
     "metadata": {},
     "output_type": "execute_result"
    }
   ],
   "source": [
    "df.head()"
   ]
  },
  {
   "cell_type": "code",
   "execution_count": 13,
   "metadata": {},
   "outputs": [],
   "source": [
    "#Así se genera una columna con los enlaces que se encuentran en el tuit. Esos hiperenlaces, \n",
    "#en algunos casos, direccionan a una imagen\n",
    "df['URL'] = df['text'].apply(lambda x: re.findall(r'((www\\.[^\\s]+)|(https?://[^\\s]+)|(http?://[^\\s]+))', x)) "
   ]
  },
  {
   "cell_type": "code",
   "execution_count": 33,
   "metadata": {},
   "outputs": [
    {
     "data": {
      "text/html": [
       "<div>\n",
       "<style scoped>\n",
       "    .dataframe tbody tr th:only-of-type {\n",
       "        vertical-align: middle;\n",
       "    }\n",
       "\n",
       "    .dataframe tbody tr th {\n",
       "        vertical-align: top;\n",
       "    }\n",
       "\n",
       "    .dataframe thead th {\n",
       "        text-align: right;\n",
       "    }\n",
       "</style>\n",
       "<table border=\"1\" class=\"dataframe\">\n",
       "  <thead>\n",
       "    <tr style=\"text-align: right;\">\n",
       "      <th></th>\n",
       "      <th>created_at</th>\n",
       "      <th>favorite_count</th>\n",
       "      <th>retweet_count</th>\n",
       "      <th>screen_name</th>\n",
       "      <th>text</th>\n",
       "    </tr>\n",
       "  </thead>\n",
       "  <tbody>\n",
       "    <tr>\n",
       "      <th>0</th>\n",
       "      <td>2016-10-27 13:56:22</td>\n",
       "      <td>2</td>\n",
       "      <td>1</td>\n",
       "      <td>todosxlapazcol</td>\n",
       "      <td>Camilo entrega petición para que Jorge Barón l...</td>\n",
       "    </tr>\n",
       "    <tr>\n",
       "      <th>1</th>\n",
       "      <td>2016-10-20 23:01:08</td>\n",
       "      <td>9</td>\n",
       "      <td>9</td>\n",
       "      <td>todosxlapazcol</td>\n",
       "      <td>\"¡Paz, Paz, Colombia quiere Paz!\" Los colombia...</td>\n",
       "    </tr>\n",
       "    <tr>\n",
       "      <th>2</th>\n",
       "      <td>2016-10-20 22:43:54</td>\n",
       "      <td>26</td>\n",
       "      <td>18</td>\n",
       "      <td>todosxlapazcol</td>\n",
       "      <td>Jóvenes, viejos.. Aquí ya no hay diferencia. T...</td>\n",
       "    </tr>\n",
       "    <tr>\n",
       "      <th>3</th>\n",
       "      <td>2016-10-20 22:23:52</td>\n",
       "      <td>4</td>\n",
       "      <td>5</td>\n",
       "      <td>todosxlapazcol</td>\n",
       "      <td>Arrancó la #GranMarchaColombiaPacifica. ¿Ya es...</td>\n",
       "    </tr>\n",
       "    <tr>\n",
       "      <th>4</th>\n",
       "      <td>2016-10-20 17:31:40</td>\n",
       "      <td>2</td>\n",
       "      <td>3</td>\n",
       "      <td>todosxlapazcol</td>\n",
       "      <td>¿Ya #EstamosListos para la #GranMarchaColombia...</td>\n",
       "    </tr>\n",
       "  </tbody>\n",
       "</table>\n",
       "</div>"
      ],
      "text/plain": [
       "           created_at  favorite_count  retweet_count     screen_name  \\\n",
       "0 2016-10-27 13:56:22               2              1  todosxlapazcol   \n",
       "1 2016-10-20 23:01:08               9              9  todosxlapazcol   \n",
       "2 2016-10-20 22:43:54              26             18  todosxlapazcol   \n",
       "3 2016-10-20 22:23:52               4              5  todosxlapazcol   \n",
       "4 2016-10-20 17:31:40               2              3  todosxlapazcol   \n",
       "\n",
       "                                                text  \n",
       "0  Camilo entrega petición para que Jorge Barón l...  \n",
       "1  \"¡Paz, Paz, Colombia quiere Paz!\" Los colombia...  \n",
       "2  Jóvenes, viejos.. Aquí ya no hay diferencia. T...  \n",
       "3  Arrancó la #GranMarchaColombiaPacifica. ¿Ya es...  \n",
       "4  ¿Ya #EstamosListos para la #GranMarchaColombia...  "
      ]
     },
     "execution_count": 33,
     "metadata": {},
     "output_type": "execute_result"
    }
   ],
   "source": [
    "df.head()"
   ]
  },
  {
   "cell_type": "markdown",
   "metadata": {},
   "source": [
    "### Filtrado de los datos"
   ]
  },
  {
   "cell_type": "code",
   "execution_count": 38,
   "metadata": {},
   "outputs": [],
   "source": [
    "#Se eligen los tuits generados antes del 2 de octubre a las 23:59:59\n",
    "\n",
    "df_cut= df[df[\"created_at\"]<=\"2016-10-02 23:59:59\"]"
   ]
  },
  {
   "cell_type": "code",
   "execution_count": 39,
   "metadata": {},
   "outputs": [],
   "source": [
    "#Se filtran los tuits en los tres periodos de interés\n",
    "\n",
    "df1=df[(df[\"created_at\"]>=\"2016-01-01 00:00:00\") & (df[\"created_at\"]<=\"2016-04-30 23:59:59\")]\n",
    "df2=df[(df[\"created_at\"]>=\"2016-05-01 00:00:00\") & (df[\"created_at\"]<=\"2016-07-31 23:59:59\")]\n",
    "df3=df[(df[\"created_at\"]>=\"2016-08-01 00:00:00\") & (df[\"created_at\"]<=\"2016-10-02 23:59:59\")]"
   ]
  },
  {
   "cell_type": "code",
   "execution_count": 40,
   "metadata": {},
   "outputs": [
    {
     "name": "stdout",
     "output_type": "stream",
     "text": [
      "numero total de tuits 2690\n",
      "numero de tuits hasta el 02-10 2672\n",
      "numero de tuits, primer periodo 125\n",
      "numero de tuits, segundo periodo 467\n",
      "numero de tuits, tercer periodo 2080\n"
     ]
    }
   ],
   "source": [
    "#Se imprimen el número de tuits resultante por periodo de tiempo\n",
    "\n",
    "print(\"numero total de tuits\", df.shape[0])\n",
    "print(\"numero de tuits hasta el 02-10\", df_cut.shape[0])\n",
    "print(\"numero de tuits, primer periodo\", df1.shape[0])\n",
    "print(\"numero de tuits, segundo periodo\", df2.shape[0])\n",
    "print(\"numero de tuits, tercer periodo\", df3.shape[0])"
   ]
  },
  {
   "cell_type": "code",
   "execution_count": 43,
   "metadata": {},
   "outputs": [],
   "source": [
    "#Se extrae aleatoriamente el 20% de los tuits para el periodo uno\n",
    "\n",
    "rn1=int(df1.shape[0]*0.2)\n",
    "df_cut_1=df1.sample(n=rn1)\n",
    "df_cut_1.to_csv('/home/christian/Documentos/TodosPorLaPaz_P1.csv')"
   ]
  },
  {
   "cell_type": "code",
   "execution_count": 46,
   "metadata": {},
   "outputs": [],
   "source": [
    "#Se extrae aleatoriamente el 20% de los tuits para el periodo dos\n",
    "\n",
    "\n",
    "rn2=int(df2.shape[0]*0.2)\n",
    "df_cut_2=df2.sample(n=rn2)\n",
    "df_cut_2.to_csv('/home/christian/Documentos/TodosPorLaPaz_P2.csv')"
   ]
  },
  {
   "cell_type": "code",
   "execution_count": 47,
   "metadata": {},
   "outputs": [],
   "source": [
    "#Se extrae aleatoriamente el 20% de los tuits para el periodo tres\n",
    "\n",
    "\n",
    "rn3=int(df3.shape[0]*0.2)\n",
    "df_cut_3=df3.sample(n=rn3)\n",
    "df_cut_3.to_csv('/home/christian/Documentos/TodosPorLaPaz_P3.csv')"
   ]
  },
  {
   "cell_type": "code",
   "execution_count": 49,
   "metadata": {},
   "outputs": [
    {
     "name": "stdout",
     "output_type": "stream",
     "text": [
      "25 93 416\n"
     ]
    }
   ],
   "source": [
    "#Número de tuit elegidos por periodo\n",
    "\n",
    "print(df_cut_1.shape[0], df_cut_2.shape[0], df_cut_3.shape[0])"
   ]
  },
  {
   "cell_type": "code",
   "execution_count": 50,
   "metadata": {},
   "outputs": [],
   "source": [
    "#Diez tuits más retuitiados por cada periodo\n",
    "\n",
    "df_cut_1_RT=df1.nlargest(10, ['retweet_count'])\n",
    "df_cut_2_RT=df2.nlargest(10, ['retweet_count'])\n",
    "df_cut_3_RT=df3.nlargest(10, ['retweet_count'])"
   ]
  },
  {
   "cell_type": "code",
   "execution_count": 52,
   "metadata": {},
   "outputs": [],
   "source": [
    "df_cut_1_RT.to_csv('/home/christian/Documentos/TodosPorLaPaz_P1.csv')\n",
    "df_cut_2_RT.to_csv('/home/christian/Documentos/TodosPorLaPaz_P2.csv')\n",
    "df_cut_3_RT.to_csv('/home/christian/Documentos/TodosPorLaPaz_P3.csv')"
   ]
  },
  {
   "cell_type": "markdown",
   "metadata": {},
   "source": [
    "### Grafica de la frecuencia de tuits"
   ]
  },
  {
   "cell_type": "markdown",
   "metadata": {},
   "source": [
    "- En cada franja se muestra cada uno de los periodos graficados. En morado el periodo 1, en azul oscuro y claro los periodos 2 y 3, respectivamente."
   ]
  },
  {
   "cell_type": "code",
   "execution_count": 53,
   "metadata": {
    "scrolled": false
   },
   "outputs": [
    {
     "data": {
      "image/png": "[encoded data removed]",
      "text/plain": [
       "<Figure size 720x576 with 1 Axes>"
      ]
     },
     "metadata": {
      "needs_background": "light"
     },
     "output_type": "display_data"
    }
   ],
   "source": [
    "plt.figure(figsize=(10,8))\n",
    "plt.hist(df1[\"created_at\"], bins=5, histtype='step', color=\"m\", linewidth=1, fill=True);\n",
    "plt.hist(df2[\"created_at\"], bins=8, histtype='step', color=\"darkblue\", linewidth=1, fill=True);\n",
    "plt.hist(df3[\"created_at\"], bins=8, histtype='step', color=\"b\", linewidth=1, fill=True)\n",
    "plt.yscale('log')\n",
    "plt.title(\"Todos X la paz\", fontsize=20)\n",
    "plt.xlabel(\"Fecha de creación del tuit\")\n",
    "plt.ylabel(\"Número de tuits\")\n",
    "plt.show()"
   ]
  },
  {
   "cell_type": "code",
   "execution_count": 54,
   "metadata": {},
   "outputs": [
    {
     "data": {
      "image/png": "[encoded data removed]",
      "text/plain": [
       "<Figure size 720x576 with 1 Axes>"
      ]
     },
     "metadata": {
      "needs_background": "light"
     },
     "output_type": "display_data"
    }
   ],
   "source": [
    "plt.figure(figsize=(10,8))\n",
    "plt.hist(df[\"created_at\"], bins=25, color=\"blue\", histtype='step', linewidth=3, fill=False);\n",
    "plt.yscale(\"log\")\n",
    "plt.title(\"Todos X la paz\", fontsize=20)\n",
    "plt.xlabel(\"Fecha de creación del tuit\")\n",
    "plt.ylabel(\"Número de tuits\")\n",
    "plt.savefig(\"grafica_paper.png\", dpi=300)\n",
    "plt.show()"
   ]
  },
  {
   "cell_type": "code",
   "execution_count": 58,
   "metadata": {},
   "outputs": [],
   "source": [
    "#plt.hist(df[\"created_at\"], bins=25, color=\"blue\", histtype='step', linewidth=3, fill=False);"
   ]
  },
  {
   "cell_type": "markdown",
   "metadata": {},
   "source": [
    "#### Evolución temporal de los tuis"
   ]
  },
  {
   "cell_type": "code",
   "execution_count": 56,
   "metadata": {},
   "outputs": [],
   "source": [
    "x=[16853.54759259, 16863.4689213 , 16873.39025   , 16883.3115787 ,\n",
    "        16893.23290741, 16903.15423611, 16913.07556481, 16922.99689352,\n",
    "        16932.91822222, 16942.83955093, 16952.76087963, 16962.68220833,\n",
    "        16972.60353704, 16982.52486574, 16992.44619444, 17002.36752315,\n",
    "        17012.28885185, 17022.21018056, 17032.13150926, 17042.05283796,\n",
    "        17051.97416667, 17061.89549537, 17071.81682407, 17081.73815278,\n",
    "        17091.65948148]\n",
    "y=[ 30.,  18.,  20.,  20.,  13.,   6.,  19.,  21.,  81.,  87.,  55.,\n",
    "         80.,  59.,  24.,  18.,  35.,  27.,  29.,  58., 239., 342., 703.,\n",
    "        693.,   6.,   7.]"
   ]
  },
  {
   "cell_type": "code",
   "execution_count": 57,
   "metadata": {},
   "outputs": [
    {
     "data": {
      "image/png": "[encoded data removed]",
      "text/plain": [
       "<Figure size 720x576 with 1 Axes>"
      ]
     },
     "metadata": {
      "needs_background": "light"
     },
     "output_type": "display_data"
    }
   ],
   "source": [
    "plt.figure(figsize=(10,8))\n",
    "\n",
    "plt.hist(df[\"created_at\"], bins=25, color=\"white\", histtype='step', linewidth=3, fill=False);\n",
    "\n",
    "plt.plot(x,y, '--k', marker = '^', markersize = '12')\n",
    "\n",
    "plt.title(\"Todos X la paz\", fontsize=20)\n",
    "plt.xlabel(\"Fecha de creación del tuit\")\n",
    "plt.ylabel(\"Número de tuits\")\n",
    "plt.savefig(\"/home/christian/Documentos/learn_to/analisis_datos_sociales/grafica_paper.png\", dpi=600)\n",
    "plt.show()"
   ]
  }
 ],
 "metadata": {
  "kernelspec": {
   "display_name": "Python 3 (ipykernel)",
   "language": "python",
   "name": "python3"
  },
  "language_info": {
   "codemirror_mode": {
    "name": "ipython",
    "version": 3
   },
   "file_extension": ".py",
   "mimetype": "text/x-python",
   "name": "python",
   "nbconvert_exporter": "python",
   "pygments_lexer": "ipython3",
   "version": "3.9.7"
  }
 },
 "nbformat": 4,
 "nbformat_minor": 2
}
