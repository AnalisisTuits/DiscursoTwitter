{
 "cells": [
  {
   "cell_type": "markdown",
   "id": "c0232fc6",
   "metadata": {},
   "source": [
    "### Código para descargar tuits\n",
    "\n",
    "A continuación se expone el programa escrito para descargar los tuits usando la API twitter"
   ]
  },
  {
   "cell_type": "code",
   "execution_count": 1,
   "id": "9f82ec33",
   "metadata": {},
   "outputs": [],
   "source": [
    "#Librería que se usarán para exatrer los tuits\n",
    "\n",
    "import tweepy #Librería que se usara para exatrer los tuits\n",
    "import csv"
   ]
  },
  {
   "cell_type": "code",
   "execution_count": 2,
   "id": "5dbf920e",
   "metadata": {},
   "outputs": [],
   "source": [
    "#Credenciales para acceder a la API de Twitter\n",
    "consumer_key = \"aaa\"\n",
    "consumer_secret = \"bbb\"\n",
    "access_key = \"ccc\"\n",
    "access_secret = \"ddd\""
   ]
  },
  {
   "cell_type": "markdown",
   "id": "7488fae5",
   "metadata": {},
   "source": [
    "Con esta función se pueden acceder a la principal información de los tuits. Por ejemplo la fecha de creación, el número de retuits y el texto del tuit. Twiiter solo permite acceder a los últimos 3240 tuits de la cuenta."
   ]
  },
  {
   "cell_type": "code",
   "execution_count": 3,
   "id": "228dac27",
   "metadata": {},
   "outputs": [],
   "source": [
    "def get_all_tweets(screen_name):\n",
    "\n",
    "    #Autorización de Twitter para usar tweepy\n",
    "    auth = tweepy.OAuthHandler(consumer_key, consumer_secret)\n",
    "    auth.set_access_token(access_key, access_secret)\n",
    "    api = tweepy.API(auth)\n",
    "\n",
    "    #Inicializamos la lista que contendra todos los tuits\n",
    "    alltweets = []\n",
    "\n",
    "    #Se realiza una solicitud inicial de los tuits más recientes (200 es el número máximo permitido)\n",
    "    new_tweets = api.user_timeline(screen_name = screen_name,count=1000)\n",
    "\n",
    "    #Guardamos los tuits recien descargados\n",
    "    alltweets.extend(new_tweets)\n",
    "\n",
    "    #Guardamos el tuit más viejo menos uno\n",
    "    oldest = alltweets[-1].id - 1\n",
    "\n",
    "    #Se inicia un proceso para capturar los tuits secuencialmente\n",
    "    while len(new_tweets) > 0:\n",
    "        print (\"Obteniendo los tweets antes de %s\" % (oldest))\n",
    "\n",
    "        #Las siguientes solicitudes usan el ID del tuit para evitar duplicados.\n",
    "        new_tweets = api.user_timeline(screen_name = screen_name,count=200,max_id=oldest)\n",
    "\n",
    "        #Guardamos de forma acumulativa los tuits\n",
    "        alltweets.extend(new_tweets)\n",
    "\n",
    "        #Actualizamos el ID del tuit más viejo menos uno (el penúltimo tuit)\n",
    "        oldest = alltweets[-1].id - 1\n",
    "\n",
    "        print (\"...%s tuits descargados hasta ahora\" % (len(alltweets)))\n",
    "\n",
    "    #Transformamos los tuits de tweepy en un array 2D que llenará el archivo csv\n",
    "    outtweets = [[tweet.id_str, tweet.created_at, tweet.retweet_count,str(tweet.favorite_count)+'', tweet.text.encode(\"utf-8\")] for tweet in alltweets]\n",
    "\n",
    "    #Escribimos csv\n",
    "    with open('%s_tweets.csv' % screen_name, \"w\", newline='') as f:       \n",
    "        writer = csv.writer(f, quoting=csv.QUOTE_ALL)\n",
    "        writer.writerow([\"id\",\"fecha\", \"retuits\", \"favoritos\", \"text\"])\n",
    "        writer.writerows(outtweets)\n",
    "\n",
    "    pass"
   ]
  },
  {
   "cell_type": "code",
   "execution_count": 4,
   "id": "63b76302",
   "metadata": {},
   "outputs": [
    {
     "name": "stdout",
     "output_type": "stream",
     "text": [
      "Obteniendo los tweets antes de 1519407671601999875\n",
      "...400 tuits descargados hasta ahora\n",
      "Obteniendo los tweets antes de 1517976677334278144\n",
      "...600 tuits descargados hasta ahora\n",
      "Obteniendo los tweets antes de 1516915664124010499\n",
      "...800 tuits descargados hasta ahora\n",
      "Obteniendo los tweets antes de 1515375815931879423\n",
      "...1000 tuits descargados hasta ahora\n",
      "Obteniendo los tweets antes de 1513893666980515845\n",
      "...1200 tuits descargados hasta ahora\n",
      "Obteniendo los tweets antes de 1512524338918010879\n",
      "...1400 tuits descargados hasta ahora\n",
      "Obteniendo los tweets antes de 1511376906716864512\n",
      "...1600 tuits descargados hasta ahora\n",
      "Obteniendo los tweets antes de 1510006905854468095\n",
      "...1800 tuits descargados hasta ahora\n",
      "Obteniendo los tweets antes de 1508980599591211009\n",
      "...2000 tuits descargados hasta ahora\n",
      "Obteniendo los tweets antes de 1507430320261451785\n",
      "...2200 tuits descargados hasta ahora\n",
      "Obteniendo los tweets antes de 1506430121770733568\n",
      "...2400 tuits descargados hasta ahora\n",
      "Obteniendo los tweets antes de 1504926505763229699\n",
      "...2600 tuits descargados hasta ahora\n",
      "Obteniendo los tweets antes de 1503793651545038853\n",
      "...2800 tuits descargados hasta ahora\n",
      "Obteniendo los tweets antes de 1502278105129525257\n",
      "...3000 tuits descargados hasta ahora\n",
      "Obteniendo los tweets antes de 1501156105677938687\n",
      "...3200 tuits descargados hasta ahora\n",
      "Obteniendo los tweets antes de 1499867067700367364\n",
      "...3250 tuits descargados hasta ahora\n",
      "Obteniendo los tweets antes de 1499776768198258697\n",
      "...3250 tuits descargados hasta ahora\n"
     ]
    }
   ],
   "source": [
    "if __name__ == '__main__':\n",
    "    #Aquí le pasamos el nombre de la cuenta a la cual le queremos extraer los tuits\n",
    "    get_all_tweets(\"infopresidencia\")"
   ]
  }
 ],
 "metadata": {
  "kernelspec": {
   "display_name": "Python 3 (ipykernel)",
   "language": "python",
   "name": "python3"
  },
  "language_info": {
   "codemirror_mode": {
    "name": "ipython",
    "version": 3
   },
   "file_extension": ".py",
   "mimetype": "text/x-python",
   "name": "python",
   "nbconvert_exporter": "python",
   "pygments_lexer": "ipython3",
   "version": "3.9.7"
  }
 },
 "nbformat": 4,
 "nbformat_minor": 5
}
